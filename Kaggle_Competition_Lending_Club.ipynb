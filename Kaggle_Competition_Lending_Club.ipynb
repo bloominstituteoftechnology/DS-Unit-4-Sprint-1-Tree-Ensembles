{
  "nbformat": 4,
  "nbformat_minor": 0,
  "metadata": {
    "colab": {
      "name": "Kaggle Competition Lending Club.ipynb",
      "version": "0.3.2",
      "provenance": [],
      "collapsed_sections": [
        "vg-Aoree9Ck3",
        "YFPfuJ9Ndph9"
      ],
      "include_colab_link": true
    },
    "kernelspec": {
      "name": "python3",
      "display_name": "Python 3"
    }
  },
  "cells": [
    {
      "cell_type": "markdown",
      "metadata": {
        "id": "view-in-github",
        "colab_type": "text"
      },
      "source": [
        "<a href=\"https://colab.research.google.com/github/aaptecode/DS-Unit-4-Sprint-1-Tree-Ensembles/blob/master/Kaggle_Competition_Lending_Club.ipynb\" target=\"_parent\"><img src=\"https://colab.research.google.com/assets/colab-badge.svg\" alt=\"Open In Colab\"/></a>"
      ]
    },
    {
      "metadata": {
        "id": "vg-Aoree9Ck3",
        "colab_type": "text"
      },
      "cell_type": "markdown",
      "source": [
        "### Loading Data From Kaggle"
      ]
    },
    {
      "metadata": {
        "id": "TP6Acl0O8jWA",
        "colab_type": "code",
        "outputId": "966ffeef-4863-438d-86b0-61b8c5f93e55",
        "colab": {
          "base_uri": "https://localhost:8080/",
          "height": 196
        }
      },
      "cell_type": "code",
      "source": [
        "!pip install kaggle"
      ],
      "execution_count": 0,
      "outputs": [
        {
          "output_type": "stream",
          "text": [
            "Requirement already satisfied: kaggle in /usr/local/lib/python3.6/dist-packages (1.5.3)\n",
            "Requirement already satisfied: urllib3<1.25,>=1.21.1 in /usr/local/lib/python3.6/dist-packages (from kaggle) (1.22)\n",
            "Requirement already satisfied: six>=1.10 in /usr/local/lib/python3.6/dist-packages (from kaggle) (1.11.0)\n",
            "Requirement already satisfied: certifi in /usr/local/lib/python3.6/dist-packages (from kaggle) (2019.3.9)\n",
            "Requirement already satisfied: python-dateutil in /usr/local/lib/python3.6/dist-packages (from kaggle) (2.5.3)\n",
            "Requirement already satisfied: requests in /usr/local/lib/python3.6/dist-packages (from kaggle) (2.18.4)\n",
            "Requirement already satisfied: tqdm in /usr/local/lib/python3.6/dist-packages (from kaggle) (4.28.1)\n",
            "Requirement already satisfied: python-slugify in /usr/local/lib/python3.6/dist-packages (from kaggle) (3.0.0)\n",
            "Requirement already satisfied: idna<2.7,>=2.5 in /usr/local/lib/python3.6/dist-packages (from requests->kaggle) (2.6)\n",
            "Requirement already satisfied: chardet<3.1.0,>=3.0.2 in /usr/local/lib/python3.6/dist-packages (from requests->kaggle) (3.0.4)\n",
            "Requirement already satisfied: text-unidecode==1.2 in /usr/local/lib/python3.6/dist-packages (from python-slugify->kaggle) (1.2)\n"
          ],
          "name": "stdout"
        }
      ]
    },
    {
      "metadata": {
        "id": "FbkrXfDf9N6q",
        "colab_type": "code",
        "outputId": "75b2a6d3-dc58-4d78-a22c-0e330f7bcc4e",
        "colab": {
          "base_uri": "https://localhost:8080/",
          "height": 151
        }
      },
      "cell_type": "code",
      "source": [
        "# Note - you'll also have to sign up for Kaggle and authorize the API\n",
        "# https://github.com/Kaggle/kaggle-api#api-credentials\n",
        "\n",
        "# Key = \"6aa390ba6abbed908ad0d11e6462b361\"\n",
        "\n",
        "# This essentially means uploading a kaggle.json file\n",
        "# For Colab we can have it in Google Drive\n",
        "\n",
        "\n",
        "from google.colab import drive\n",
        "drive.mount('/content/drive', force_remount=True)\n",
        "%env KAGGLE_CONFIG_DIR=/content/drive/My Drive/\n",
        "\n",
        "# %env KAGGLE_CONFIG_DIR=/content/drive/My Drive/\n",
        "\n",
        "\n",
        "'4/5wAtCWG0qZ5_sP2GCg7X_XQl8WtHc5NBRKEo9CS-2J3LpRGdIxNY_4U'"
      ],
      "execution_count": 0,
      "outputs": [
        {
          "output_type": "stream",
          "text": [
            "Go to this URL in a browser: https://accounts.google.com/o/oauth2/auth?client_id=947318989803-6bn6qk8qdgf4n4g3pfee6491hc0brc4i.apps.googleusercontent.com&redirect_uri=urn%3Aietf%3Awg%3Aoauth%3A2.0%3Aoob&scope=email%20https%3A%2F%2Fwww.googleapis.com%2Fauth%2Fdocs.test%20https%3A%2F%2Fwww.googleapis.com%2Fauth%2Fdrive%20https%3A%2F%2Fwww.googleapis.com%2Fauth%2Fdrive.photos.readonly%20https%3A%2F%2Fwww.googleapis.com%2Fauth%2Fpeopleapi.readonly&response_type=code\n",
            "\n",
            "Enter your authorization code:\n",
            "··········\n",
            "Mounted at /content/drive\n",
            "env: KAGGLE_CONFIG_DIR=/content/drive/My Drive/\n"
          ],
          "name": "stdout"
        },
        {
          "output_type": "execute_result",
          "data": {
            "text/plain": [
              "'4/5wAtCWG0qZ5_sP2GCg7X_XQl8WtHc5NBRKEo9CS-2J3LpRGdIxNY_4U'"
            ]
          },
          "metadata": {
            "tags": []
          },
          "execution_count": 2
        }
      ]
    },
    {
      "metadata": {
        "id": "2z08aO4V9VQe",
        "colab_type": "code",
        "outputId": "e60baf14-854c-403a-c819-38b08c100841",
        "colab": {
          "base_uri": "https://localhost:8080/",
          "height": 375
        }
      },
      "cell_type": "code",
      "source": [
        "!kaggle competitions list"
      ],
      "execution_count": 0,
      "outputs": [
        {
          "output_type": "stream",
          "text": [
            "ref                                            deadline             category            reward  teamCount  userHasEntered  \n",
            "---------------------------------------------  -------------------  ---------------  ---------  ---------  --------------  \n",
            "digit-recognizer                               2030-01-01 00:00:00  Getting Started  Knowledge       2526           False  \n",
            "titanic                                        2030-01-01 00:00:00  Getting Started  Knowledge      10134            True  \n",
            "house-prices-advanced-regression-techniques    2030-01-01 00:00:00  Getting Started  Knowledge       4032           False  \n",
            "imagenet-object-localization-challenge         2029-12-31 07:00:00  Research         Knowledge         36           False  \n",
            "competitive-data-science-predict-future-sales  2019-12-31 23:59:00  Playground           Kudos       2552           False  \n",
            "two-sigma-financial-news                       2019-07-15 23:59:00  Featured          $100,000       2927           False  \n",
            "aerial-cactus-identification                   2019-07-08 23:59:00  Playground       Knowledge        113           False  \n",
            "LANL-Earthquake-Prediction                     2019-06-03 23:59:00  Research           $50,000       1825           False  \n",
            "tmdb-box-office-prediction                     2019-05-30 23:59:00  Playground       Knowledge        432           False  \n",
            "dont-overfit-ii                                2019-05-07 23:59:00  Playground            Swag       1158           False  \n",
            "data-science-for-good-careervillage            2019-04-23 23:59:00  Analytics          $15,000          0           False  \n",
            "gendered-pronoun-resolution                    2019-04-22 23:59:00  Research           $25,000        435           False  \n",
            "career-con-2019                                2019-04-11 23:59:00  Recruitment           Swag        497           False  \n",
            "santander-customer-transaction-prediction      2019-04-10 23:59:00  Featured           $65,000       6222           False  \n",
            "womens-machine-learning-competition-2019       2019-04-09 23:59:00  Featured           $25,000        290           False  \n",
            "mens-machine-learning-competition-2019         2019-04-08 23:59:00  Featured           $25,000         45           False  \n",
            "histopathologic-cancer-detection               2019-03-30 23:59:00  Playground       Knowledge        981           False  \n",
            "petfinder-adoption-prediction                  2019-03-28 23:59:00  Featured           $25,000       1829           False  \n",
            "vsb-power-line-fault-detection                 2019-03-21 23:59:00  Featured           $25,000       1415           False  \n",
            "microsoft-malware-prediction                   2019-03-13 23:59:00  Research           $25,000       2426           False  \n"
          ],
          "name": "stdout"
        }
      ]
    },
    {
      "metadata": {
        "id": "CEsCfxNY9Ys4",
        "colab_type": "code",
        "outputId": "907ac306-88be-4f81-aead-3437b91c150a",
        "colab": {
          "base_uri": "https://localhost:8080/",
          "height": 261
        }
      },
      "cell_type": "code",
      "source": [
        "!kaggle competitions download -c ds1-tree-ensembles\n"
      ],
      "execution_count": 0,
      "outputs": [
        {
          "output_type": "stream",
          "text": [
            "Downloading train_features.csv.zip to /content\n",
            "\r  0% 0.00/4.67M [00:00<?, ?B/s]\n",
            "100% 4.67M/4.67M [00:00<00:00, 77.1MB/s]\n",
            "Downloading train_labels.csv to /content\n",
            "  0% 0.00/295k [00:00<?, ?B/s]\n",
            "100% 295k/295k [00:00<00:00, 98.3MB/s]\n",
            "Downloading test_features.csv.zip to /content\n",
            "  0% 0.00/1.17M [00:00<?, ?B/s]\n",
            "100% 1.17M/1.17M [00:00<00:00, 157MB/s]\n",
            "Downloading sample_submission.csv to /content\n",
            "  0% 0.00/92.2k [00:00<?, ?B/s]\n",
            "100% 92.2k/92.2k [00:00<00:00, 86.2MB/s]\n",
            "Downloading LCDataDictionary.xlsx to /content\n",
            "  0% 0.00/23.0k [00:00<?, ?B/s]\n",
            "100% 23.0k/23.0k [00:00<00:00, 20.9MB/s]\n"
          ],
          "name": "stdout"
        }
      ]
    },
    {
      "metadata": {
        "id": "k4PFYPom9Zau",
        "colab_type": "code",
        "outputId": "bdfaa724-24bb-47dd-d596-542379d31cf0",
        "colab": {
          "base_uri": "https://localhost:8080/",
          "height": 82
        }
      },
      "cell_type": "code",
      "source": [
        "# !wget https://os.unil.cloud.switch.ch/fma/fma_metadata.zip\n",
        "!unzip test_features.csv.zip\n",
        "# !unzip train_labels.csv.zip\n",
        "!unzip train_features.csv.zip\n"
      ],
      "execution_count": 0,
      "outputs": [
        {
          "output_type": "stream",
          "text": [
            "Archive:  test_features.csv.zip\n",
            "  inflating: test_features.csv       \n",
            "Archive:  train_features.csv.zip\n",
            "  inflating: train_features.csv      \n"
          ],
          "name": "stdout"
        }
      ]
    },
    {
      "metadata": {
        "id": "LD-ItddSA6Iv",
        "colab_type": "code",
        "colab": {}
      },
      "cell_type": "code",
      "source": [
        "from google.colab import files\n",
        "\n",
        "files.download('train_features.csv')\n",
        "files.download('test_features.csv')\n",
        "files.download('train_labels.csv')\n",
        "files.download('sample_submission.csv')\n",
        "files.download('LCDataDictionary.xlsx')"
      ],
      "execution_count": 0,
      "outputs": []
    },
    {
      "metadata": {
        "id": "ZK_tsGzHCliZ",
        "colab_type": "text"
      },
      "cell_type": "markdown",
      "source": [
        "### Loading Files from Github"
      ]
    },
    {
      "metadata": {
        "id": "Ibztsf4GCkPz",
        "colab_type": "code",
        "colab": {}
      },
      "cell_type": "code",
      "source": [
        "import matplotlib.pyplot as plt\n",
        "import matplotlib.style as style\n",
        "import numpy as np\n",
        "import pandas as pd\n",
        "import seaborn as sns\n",
        "import warnings\n",
        "\n",
        "# pd.set_option('display.max_rows', 500)\n",
        "# pd.set_option('display.max_columns', 50)\n",
        "style.use('seaborn-whitegrid')\n",
        "warnings.filterwarnings('ignore')\n",
        "\n",
        "pd.options.display.max_columns = 200\n",
        "pd.options.display.max_rows = 200"
      ],
      "execution_count": 0,
      "outputs": []
    },
    {
      "metadata": {
        "id": "WzmucDIVNINq",
        "colab_type": "code",
        "outputId": "8ef5c9e0-bcc1-405b-b76f-f659b09ec1f7",
        "colab": {
          "base_uri": "https://localhost:8080/",
          "height": 34
        }
      },
      "cell_type": "code",
      "source": [
        "url_trainF = 'https://raw.githubusercontent.com/aaptecode/DS-Unit-4-Sprint-1-Tree-Ensembles/master/data/train_features.csv'\n",
        "url_testF = 'https://raw.githubusercontent.com/aaptecode/DS-Unit-4-Sprint-1-Tree-Ensembles/master/data/test_features.csv'\n",
        "url_trainL = 'https://raw.githubusercontent.com/aaptecode/DS-Unit-4-Sprint-1-Tree-Ensembles/master/data/train_labels.csv'\n",
        "\n",
        "X_train = pd.read_csv(url_trainF)\n",
        "X_test = pd.read_csv(url_testF)\n",
        "y_train = pd.read_csv(url_trainL)\n",
        "\n",
        "X_train.shape, X_test.shape, y_train.shape"
      ],
      "execution_count": 0,
      "outputs": [
        {
          "output_type": "execute_result",
          "data": {
            "text/plain": [
              "((37745, 103), (9437, 103), (37745, 2))"
            ]
          },
          "metadata": {
            "tags": []
          },
          "execution_count": 2
        }
      ]
    },
    {
      "metadata": {
        "id": "YFPfuJ9Ndph9",
        "colab_type": "text"
      },
      "cell_type": "markdown",
      "source": [
        "### Majority Base Classifier"
      ]
    },
    {
      "metadata": {
        "id": "XbOoKYKEdtze",
        "colab_type": "code",
        "outputId": "290a6430-581d-4587-a498-a01435774966",
        "colab": {
          "base_uri": "https://localhost:8080/",
          "height": 66
        }
      },
      "cell_type": "code",
      "source": [
        "trainL['charged_off'].value_counts(dropna=False)"
      ],
      "execution_count": 0,
      "outputs": [
        {
          "output_type": "execute_result",
          "data": {
            "text/plain": [
              "0    32191\n",
              "1     5554\n",
              "Name: charged_off, dtype: int64"
            ]
          },
          "metadata": {
            "tags": []
          },
          "execution_count": 55
        }
      ]
    },
    {
      "metadata": {
        "id": "yxS2EVnBdtwW",
        "colab_type": "code",
        "outputId": "72eae339-aaf1-427d-c494-2c5d61de7e5a",
        "colab": {
          "base_uri": "https://localhost:8080/",
          "height": 33
        }
      },
      "cell_type": "code",
      "source": [
        "majority_class = trainL['charged_off'].mode()[0]\n",
        "\n",
        "print(majority_class)\n",
        "\n",
        "y_pred = pd.DataFrame(np.full(shape=len(testF), fill_value = majority_class))"
      ],
      "execution_count": 0,
      "outputs": [
        {
          "output_type": "stream",
          "text": [
            "0\n"
          ],
          "name": "stdout"
        }
      ]
    },
    {
      "metadata": {
        "id": "5XFmVxqGdthP",
        "colab_type": "code",
        "outputId": "6adccf4c-33df-4421-8e96-7fb242794b23",
        "colab": {
          "base_uri": "https://localhost:8080/",
          "height": 191
        }
      },
      "cell_type": "code",
      "source": [
        "y_pred = pd.concat([testF['id'], y_pred], axis='columns')\n",
        "y_pred.rename(columns={0:'charged_off'}, inplace=True)\n",
        "\n",
        "\n",
        "\n",
        "y_pred.head()"
      ],
      "execution_count": 0,
      "outputs": [
        {
          "output_type": "execute_result",
          "data": {
            "text/html": [
              "<div>\n",
              "<style scoped>\n",
              "    .dataframe tbody tr th:only-of-type {\n",
              "        vertical-align: middle;\n",
              "    }\n",
              "\n",
              "    .dataframe tbody tr th {\n",
              "        vertical-align: top;\n",
              "    }\n",
              "\n",
              "    .dataframe thead th {\n",
              "        text-align: right;\n",
              "    }\n",
              "</style>\n",
              "<table border=\"1\" class=\"dataframe\">\n",
              "  <thead>\n",
              "    <tr style=\"text-align: right;\">\n",
              "      <th></th>\n",
              "      <th>id</th>\n",
              "      <th>charged_off</th>\n",
              "    </tr>\n",
              "  </thead>\n",
              "  <tbody>\n",
              "    <tr>\n",
              "      <th>0</th>\n",
              "      <td>57146</td>\n",
              "      <td>0</td>\n",
              "    </tr>\n",
              "    <tr>\n",
              "      <th>1</th>\n",
              "      <td>20988</td>\n",
              "      <td>0</td>\n",
              "    </tr>\n",
              "    <tr>\n",
              "      <th>2</th>\n",
              "      <td>10031</td>\n",
              "      <td>0</td>\n",
              "    </tr>\n",
              "    <tr>\n",
              "      <th>3</th>\n",
              "      <td>33892</td>\n",
              "      <td>0</td>\n",
              "    </tr>\n",
              "    <tr>\n",
              "      <th>4</th>\n",
              "      <td>35374</td>\n",
              "      <td>0</td>\n",
              "    </tr>\n",
              "  </tbody>\n",
              "</table>\n",
              "</div>"
            ],
            "text/plain": [
              "      id  charged_off\n",
              "0  57146            0\n",
              "1  20988            0\n",
              "2  10031            0\n",
              "3  33892            0\n",
              "4  35374            0"
            ]
          },
          "metadata": {
            "tags": []
          },
          "execution_count": 57
        }
      ]
    },
    {
      "metadata": {
        "id": "tn53AVwThuSD",
        "colab_type": "code",
        "outputId": "7b64aeb8-0c8e-4076-a5c9-0a451a662fa4",
        "colab": {
          "base_uri": "https://localhost:8080/",
          "height": 33
        }
      },
      "cell_type": "code",
      "source": [
        "len(testF)"
      ],
      "execution_count": 0,
      "outputs": [
        {
          "output_type": "execute_result",
          "data": {
            "text/plain": [
              "9437"
            ]
          },
          "metadata": {
            "tags": []
          },
          "execution_count": 58
        }
      ]
    },
    {
      "metadata": {
        "id": "aS-iCg33hoVN",
        "colab_type": "code",
        "outputId": "661f68dd-0b66-4a82-9365-db49fb317a9f",
        "colab": {
          "base_uri": "https://localhost:8080/",
          "height": 33
        }
      },
      "cell_type": "code",
      "source": [
        "print(y_pred.shape)"
      ],
      "execution_count": 0,
      "outputs": [
        {
          "output_type": "stream",
          "text": [
            "(9437, 2)\n"
          ],
          "name": "stdout"
        }
      ]
    },
    {
      "metadata": {
        "id": "GqzscvJ3jrlk",
        "colab_type": "code",
        "outputId": "ed2e3062-3ae7-415f-9e1a-d4999ab6d017",
        "colab": {
          "base_uri": "https://localhost:8080/",
          "height": 220
        }
      },
      "cell_type": "code",
      "source": [
        "y_pred.set_index('id', inplace=True)\n",
        "\n",
        "y_pred.head()"
      ],
      "execution_count": 0,
      "outputs": [
        {
          "output_type": "execute_result",
          "data": {
            "text/html": [
              "<div>\n",
              "<style scoped>\n",
              "    .dataframe tbody tr th:only-of-type {\n",
              "        vertical-align: middle;\n",
              "    }\n",
              "\n",
              "    .dataframe tbody tr th {\n",
              "        vertical-align: top;\n",
              "    }\n",
              "\n",
              "    .dataframe thead th {\n",
              "        text-align: right;\n",
              "    }\n",
              "</style>\n",
              "<table border=\"1\" class=\"dataframe\">\n",
              "  <thead>\n",
              "    <tr style=\"text-align: right;\">\n",
              "      <th></th>\n",
              "      <th>charged_off</th>\n",
              "    </tr>\n",
              "    <tr>\n",
              "      <th>id</th>\n",
              "      <th></th>\n",
              "    </tr>\n",
              "  </thead>\n",
              "  <tbody>\n",
              "    <tr>\n",
              "      <th>57146</th>\n",
              "      <td>0</td>\n",
              "    </tr>\n",
              "    <tr>\n",
              "      <th>20988</th>\n",
              "      <td>0</td>\n",
              "    </tr>\n",
              "    <tr>\n",
              "      <th>10031</th>\n",
              "      <td>0</td>\n",
              "    </tr>\n",
              "    <tr>\n",
              "      <th>33892</th>\n",
              "      <td>0</td>\n",
              "    </tr>\n",
              "    <tr>\n",
              "      <th>35374</th>\n",
              "      <td>0</td>\n",
              "    </tr>\n",
              "  </tbody>\n",
              "</table>\n",
              "</div>"
            ],
            "text/plain": [
              "       charged_off\n",
              "id                \n",
              "57146            0\n",
              "20988            0\n",
              "10031            0\n",
              "33892            0\n",
              "35374            0"
            ]
          },
          "metadata": {
            "tags": []
          },
          "execution_count": 61
        }
      ]
    },
    {
      "metadata": {
        "id": "WToGa36qdta0",
        "colab_type": "code",
        "colab": {}
      },
      "cell_type": "code",
      "source": [
        "from google.colab import files\n",
        "\n",
        "y_pred.to_csv('majority_class.csv')\n",
        "files.download('majority_class.csv')"
      ],
      "execution_count": 0,
      "outputs": []
    },
    {
      "metadata": {
        "id": "Mvaj_4AXkFcz",
        "colab_type": "text"
      },
      "cell_type": "markdown",
      "source": [
        "### FEATURE CLEANUP AND ENGINEERING"
      ]
    },
    {
      "metadata": {
        "id": "_LGdQ35GEloY",
        "colab_type": "code",
        "colab": {}
      },
      "cell_type": "code",
      "source": [
        "def wrangle(X):\n",
        "    X = X.copy()\n",
        "    \n",
        "    # Keep the id column\n",
        "    identification = X['id']\n",
        "    \n",
        "    # Drop some columns\n",
        "    X = X.drop(columns='id')  # id is random\n",
        "    X = X.drop(columns=['member_id', 'url', 'desc'])  # All null\n",
        "    X = X.drop(columns='title')  # Duplicative of purpose\n",
        "    X = X.drop(columns='grade')  # Duplicative of sub_grade\n",
        "    \n",
        "    # Transform sub_grade from \"A1\" - \"G5\" to 1.1 - 7.5\n",
        "    def wrangle_sub_grade(x):\n",
        "        first_digit = ord(x[0]) - 64\n",
        "        second_digit = int(x[1])\n",
        "        return first_digit + second_digit/10\n",
        "    \n",
        "    X['sub_grade'] = X['sub_grade'].apply(wrangle_sub_grade)\n",
        "\n",
        "    # Convert percentages from strings to floats\n",
        "    X['int_rate'] = X['int_rate'].str.strip('%').astype(float)\n",
        "    X['revol_util'] = X['revol_util'].str.strip('%').astype(float)\n",
        "        \n",
        "    # Transform earliest_cr_line to an integer: how many days it's been open\n",
        "    X['earliest_cr_line'] = pd.to_datetime(X['earliest_cr_line'], infer_datetime_format=True)\n",
        "    X['earliest_cr_line'] = pd.Timestamp.today() - X['earliest_cr_line']\n",
        "    X['earliest_cr_line'] = X['earliest_cr_line'].dt.days\n",
        "    \n",
        "    # Create features for three employee titles: teacher, manager, owner\n",
        "    X['emp_title'] = X['emp_title'].str.lower()\n",
        "    X['emp_title_teacher'] = X['emp_title'].str.contains('teacher', na=False)\n",
        "    X['emp_title_manager'] = X['emp_title'].str.contains('manager', na=False)\n",
        "    X['emp_title_owner']   = X['emp_title'].str.contains('owner', na=False)\n",
        "    \n",
        "    # Drop categoricals with high cardinality\n",
        "    X = X.drop(columns=['emp_title', 'zip_code'])\n",
        "    \n",
        "    # Transform features with many nulls to binary flags\n",
        "    many_nulls = ['sec_app_mths_since_last_major_derog',\n",
        "                  'sec_app_revol_util',\n",
        "                  'sec_app_earliest_cr_line',\n",
        "                  'sec_app_mort_acc',\n",
        "                  'dti_joint',\n",
        "                  'sec_app_collections_12_mths_ex_med',\n",
        "                  'sec_app_chargeoff_within_12_mths',\n",
        "                  'sec_app_num_rev_accts',\n",
        "                  'sec_app_open_act_il',\n",
        "                  'sec_app_open_acc',\n",
        "                  'revol_bal_joint',\n",
        "                  'annual_inc_joint',\n",
        "                  'sec_app_inq_last_6mths',\n",
        "                  'mths_since_last_record',\n",
        "                  'mths_since_recent_bc_dlq',\n",
        "                  'mths_since_last_major_derog',\n",
        "                  'mths_since_recent_revol_delinq',\n",
        "                  'mths_since_last_delinq',\n",
        "                  'il_util',\n",
        "                  'emp_length',\n",
        "                  'mths_since_recent_inq',\n",
        "                  'mo_sin_old_il_acct',\n",
        "                  'mths_since_rcnt_il',\n",
        "                  'num_tl_120dpd_2m',\n",
        "                  'bc_util',\n",
        "                  'percent_bc_gt_75',\n",
        "                  'bc_open_to_buy',\n",
        "                  'mths_since_recent_bc']\n",
        "\n",
        "    for col in many_nulls:\n",
        "        X[col] = X[col].isnull()\n",
        "    \n",
        "    # For features with few nulls, do mean imputation\n",
        "    for col in X:\n",
        "        if X[col].isnull().sum() > 0:\n",
        "            X[col] = X[col].fillna(X[col].mean())\n",
        "    \n",
        "    # Return the wrangled dataframe\n",
        "    return X, identification"
      ],
      "execution_count": 0,
      "outputs": []
    },
    {
      "metadata": {
        "id": "Ao8-eROkElei",
        "colab_type": "code",
        "outputId": "bd2a9297-e103-4dd1-aa65-233ea277a6e3",
        "colab": {
          "base_uri": "https://localhost:8080/",
          "height": 34
        }
      },
      "cell_type": "code",
      "source": [
        "X_train, X_train_id = wrangle(X_train)\n",
        "X_test, X_test_id  = wrangle(X_test)\n",
        "X_train.shape, X_test.shape"
      ],
      "execution_count": 0,
      "outputs": [
        {
          "output_type": "execute_result",
          "data": {
            "text/plain": [
              "((37745, 98), (9437, 98))"
            ]
          },
          "metadata": {
            "tags": []
          },
          "execution_count": 4
        }
      ]
    },
    {
      "metadata": {
        "id": "zN7otRxyI-j2",
        "colab_type": "code",
        "outputId": "1904e8f0-e2b7-48b7-ac8c-0d5fc79f910f",
        "colab": {
          "base_uri": "https://localhost:8080/",
          "height": 121
        }
      },
      "cell_type": "code",
      "source": [
        "X_test_id.head()"
      ],
      "execution_count": 0,
      "outputs": [
        {
          "output_type": "execute_result",
          "data": {
            "text/plain": [
              "0    57146\n",
              "1    20988\n",
              "2    10031\n",
              "3    33892\n",
              "4    35374\n",
              "Name: id, dtype: int64"
            ]
          },
          "metadata": {
            "tags": []
          },
          "execution_count": 5
        }
      ]
    },
    {
      "metadata": {
        "id": "mSxWab1AJFPh",
        "colab_type": "code",
        "outputId": "b079269b-71c4-4539-ed14-a00ad758d5df",
        "colab": {
          "base_uri": "https://localhost:8080/",
          "height": 233
        }
      },
      "cell_type": "code",
      "source": [
        "y_train.set_index('id', inplace=True)\n",
        "\n",
        "y_train.head()"
      ],
      "execution_count": 0,
      "outputs": [
        {
          "output_type": "execute_result",
          "data": {
            "text/html": [
              "<div>\n",
              "<style scoped>\n",
              "    .dataframe tbody tr th:only-of-type {\n",
              "        vertical-align: middle;\n",
              "    }\n",
              "\n",
              "    .dataframe tbody tr th {\n",
              "        vertical-align: top;\n",
              "    }\n",
              "\n",
              "    .dataframe thead th {\n",
              "        text-align: right;\n",
              "    }\n",
              "</style>\n",
              "<table border=\"1\" class=\"dataframe\">\n",
              "  <thead>\n",
              "    <tr style=\"text-align: right;\">\n",
              "      <th></th>\n",
              "      <th>charged_off</th>\n",
              "    </tr>\n",
              "    <tr>\n",
              "      <th>id</th>\n",
              "      <th></th>\n",
              "    </tr>\n",
              "  </thead>\n",
              "  <tbody>\n",
              "    <tr>\n",
              "      <th>43373</th>\n",
              "      <td>0</td>\n",
              "    </tr>\n",
              "    <tr>\n",
              "      <th>24414</th>\n",
              "      <td>0</td>\n",
              "    </tr>\n",
              "    <tr>\n",
              "      <th>46723</th>\n",
              "      <td>0</td>\n",
              "    </tr>\n",
              "    <tr>\n",
              "      <th>24878</th>\n",
              "      <td>0</td>\n",
              "    </tr>\n",
              "    <tr>\n",
              "      <th>39038</th>\n",
              "      <td>0</td>\n",
              "    </tr>\n",
              "  </tbody>\n",
              "</table>\n",
              "</div>"
            ],
            "text/plain": [
              "       charged_off\n",
              "id                \n",
              "43373            0\n",
              "24414            0\n",
              "46723            0\n",
              "24878            0\n",
              "39038            0"
            ]
          },
          "metadata": {
            "tags": []
          },
          "execution_count": 6
        }
      ]
    },
    {
      "metadata": {
        "id": "xvRP850RIDA_",
        "colab_type": "code",
        "outputId": "ebe76779-a065-4731-d0e1-3784b95441b7",
        "colab": {
          "base_uri": "https://localhost:8080/",
          "height": 34
        }
      },
      "cell_type": "code",
      "source": [
        "null_counts = X_train.isnull().sum()\n",
        "all(null_counts == 0)"
      ],
      "execution_count": 0,
      "outputs": [
        {
          "output_type": "execute_result",
          "data": {
            "text/plain": [
              "True"
            ]
          },
          "metadata": {
            "tags": []
          },
          "execution_count": 7
        }
      ]
    },
    {
      "metadata": {
        "id": "EJSy5Kq4IDmw",
        "colab_type": "code",
        "outputId": "3fd9e49e-bde5-462d-9b8b-88330188eff6",
        "colab": {
          "base_uri": "https://localhost:8080/",
          "height": 34
        }
      },
      "cell_type": "code",
      "source": [
        "cardinality = X_train.select_dtypes(exclude='number').nunique()\n",
        "all(cardinality <= 50)"
      ],
      "execution_count": 0,
      "outputs": [
        {
          "output_type": "execute_result",
          "data": {
            "text/plain": [
              "True"
            ]
          },
          "metadata": {
            "tags": []
          },
          "execution_count": 8
        }
      ]
    },
    {
      "metadata": {
        "id": "u--MUN2eEp7k",
        "colab_type": "text"
      },
      "cell_type": "markdown",
      "source": [
        "#### Encoding Data"
      ]
    },
    {
      "metadata": {
        "id": "bPmeGGnMUmaR",
        "colab_type": "code",
        "outputId": "9c0a4f3b-64a6-4ff1-f80c-ac9feb65cfab",
        "colab": {
          "base_uri": "https://localhost:8080/",
          "height": 260
        }
      },
      "cell_type": "code",
      "source": [
        "!pip install category_encoders \n",
        "import category_encoders as ce"
      ],
      "execution_count": 0,
      "outputs": [
        {
          "output_type": "stream",
          "text": [
            "Collecting category_encoders\n",
            "\u001b[?25l  Downloading https://files.pythonhosted.org/packages/f7/d3/82a4b85a87ece114f6d0139d643580c726efa45fa4db3b81aed38c0156c5/category_encoders-1.3.0-py2.py3-none-any.whl (61kB)\n",
            "\u001b[K    100% |████████████████████████████████| 61kB 3.9MB/s \n",
            "\u001b[?25hRequirement already satisfied: scipy>=0.17.0 in /usr/local/lib/python3.6/dist-packages (from category_encoders) (1.1.0)\n",
            "Requirement already satisfied: statsmodels>=0.6.1 in /usr/local/lib/python3.6/dist-packages (from category_encoders) (0.8.0)\n",
            "Requirement already satisfied: scikit-learn>=0.17.1 in /usr/local/lib/python3.6/dist-packages (from category_encoders) (0.20.3)\n",
            "Requirement already satisfied: pandas>=0.20.1 in /usr/local/lib/python3.6/dist-packages (from category_encoders) (0.22.0)\n",
            "Requirement already satisfied: patsy>=0.4.1 in /usr/local/lib/python3.6/dist-packages (from category_encoders) (0.5.1)\n",
            "Requirement already satisfied: numpy>=1.11.1 in /usr/local/lib/python3.6/dist-packages (from category_encoders) (1.14.6)\n",
            "Requirement already satisfied: python-dateutil>=2 in /usr/local/lib/python3.6/dist-packages (from pandas>=0.20.1->category_encoders) (2.5.3)\n",
            "Requirement already satisfied: pytz>=2011k in /usr/local/lib/python3.6/dist-packages (from pandas>=0.20.1->category_encoders) (2018.9)\n",
            "Requirement already satisfied: six in /usr/local/lib/python3.6/dist-packages (from patsy>=0.4.1->category_encoders) (1.11.0)\n",
            "Installing collected packages: category-encoders\n",
            "Successfully installed category-encoders-1.3.0\n"
          ],
          "name": "stdout"
        }
      ]
    },
    {
      "metadata": {
        "id": "CA68J66XEwMy",
        "colab_type": "code",
        "colab": {}
      },
      "cell_type": "code",
      "source": [
        "encoder_b = ce.binary.BinaryEncoder()\n",
        "X_train_e = encoder_b.fit_transform(X_train,y_train)\n",
        "X_test_e = encoder_b.transform(X_test)\n",
        "\n",
        "# encoder_o = ce.OrdinalEncoder()\n",
        "# X_train_e = encoder_o.fit_transform(X_train,y_train)\n",
        "# X_test_e = encoder_o.transform(X_test)\n",
        "\n",
        "# encoder_oh= ce.one_hot.OneHotEncoder()\n",
        "# X_train_e = encoder_oh.fit_transform(X_train,y_train)\n",
        "# X_test_e = encoder_oh.transform(X_test)\n",
        "\n",
        "# encoder_t = ce.TargetEncoder()\n",
        "# X_train_e = encoder_t.fit_transform(X_train,y_train)\n",
        "# X_test_e = encoder_t.transform(X_test)\n",
        "\n",
        "# encoder_loo = ce.leave_one_out.LeaveOneOutEncoder()\n",
        "# X_train_e = encoder_loo.fit_transform(X_train,y_train)\n",
        "# X_test_e = encoder_loo.transform(X_test)\n"
      ],
      "execution_count": 0,
      "outputs": []
    },
    {
      "metadata": {
        "id": "DpPhXfJNEmKZ",
        "colab_type": "text"
      },
      "cell_type": "markdown",
      "source": [
        "#### Scaling Data"
      ]
    },
    {
      "metadata": {
        "id": "bQaTDn7RU_Ew",
        "colab_type": "code",
        "colab": {}
      },
      "cell_type": "code",
      "source": [
        "from sklearn.preprocessing import RobustScaler, StandardScaler, MinMaxScaler, MaxAbsScaler\n"
      ],
      "execution_count": 0,
      "outputs": []
    },
    {
      "metadata": {
        "id": "jmNxd08lEyD-",
        "colab_type": "code",
        "colab": {}
      },
      "cell_type": "code",
      "source": [
        "scaler = RobustScaler() \n",
        "X_train_es = scaler.fit_transform(X_train_e)\n",
        "X_test_es = scaler.transform(X_test_e)"
      ],
      "execution_count": 0,
      "outputs": []
    },
    {
      "metadata": {
        "id": "Y1uorSlOw9m_",
        "colab_type": "text"
      },
      "cell_type": "markdown",
      "source": [
        "### PREDICTION (Observing Cross Validation Scores)"
      ]
    },
    {
      "metadata": {
        "id": "ib2GIpNCUsPG",
        "colab_type": "code",
        "colab": {}
      },
      "cell_type": "code",
      "source": [
        "from scipy.stats import randint as sp_randint\n",
        "from sklearn.tree import DecisionTreeClassifier\n",
        "from sklearn.ensemble import RandomForestClassifier\n",
        "from sklearn.ensemble import GradientBoostingClassifier\n",
        "from sklearn.linear_model import LogisticRegression\n",
        "from sklearn.model_selection import cross_val_score\n",
        "from sklearn.model_selection import RandomizedSearchCV\n",
        "from xgboost import XGBClassifier\n"
      ],
      "execution_count": 0,
      "outputs": []
    },
    {
      "metadata": {
        "id": "WvojHc6XFeWG",
        "colab_type": "text"
      },
      "cell_type": "markdown",
      "source": [
        "#### Logistic Regression"
      ]
    },
    {
      "metadata": {
        "id": "I-yNRPdQFseV",
        "colab_type": "code",
        "outputId": "f6145b49-491b-4c8c-c844-25ce89ed79ac",
        "colab": {
          "base_uri": "https://localhost:8080/",
          "height": 86
        }
      },
      "cell_type": "code",
      "source": [
        "%%time\n",
        "\n",
        "lr = LogisticRegression(solver='lbfgs',\n",
        "                        class_weight='balanced')\n",
        "\n",
        "lr_scores = cross_val_score(lr, X_train_es, y_train, scoring='roc_auc', cv=10, n_jobs=-1)\n",
        "\n",
        "# print(lr_scores)\n",
        "print(f\"Logistic Regression range: {round(min(lr_scores),5)}-{round(max(lr_scores),5)}\\n\")"
      ],
      "execution_count": 0,
      "outputs": [
        {
          "output_type": "stream",
          "text": [
            "Logistic Regression range: 0.69755-0.7295\n",
            "\n",
            "CPU times: user 104 ms, sys: 61.2 ms, total: 165 ms\n",
            "Wall time: 22.4 s\n"
          ],
          "name": "stdout"
        }
      ]
    },
    {
      "metadata": {
        "id": "dCkONUzBFbIg",
        "colab_type": "text"
      },
      "cell_type": "markdown",
      "source": [
        "#### Decision Tree"
      ]
    },
    {
      "metadata": {
        "id": "xAn8o9PoxGFy",
        "colab_type": "code",
        "outputId": "776344c9-c56d-4335-9158-66b8aa54ee3e",
        "colab": {
          "base_uri": "https://localhost:8080/",
          "height": 86
        }
      },
      "cell_type": "code",
      "source": [
        "%%time\n",
        "\n",
        "dt = DecisionTreeClassifier(class_weight = 'balanced')\n",
        "\n",
        "dt_scores = cross_val_score(dt, X_train_es, y_train, scoring='roc_auc', cv=10, n_jobs=-1)\n",
        "\n",
        "print(f\"Decision Tree range: {round(min(dt_scores),5)}-{round(max(dt_scores),5)}\\n\")"
      ],
      "execution_count": 0,
      "outputs": [
        {
          "output_type": "stream",
          "text": [
            "Decision Tree range: 0.53299-0.55077\n",
            "\n",
            "CPU times: user 93 ms, sys: 26.5 ms, total: 119 ms\n",
            "Wall time: 14.9 s\n"
          ],
          "name": "stdout"
        }
      ]
    },
    {
      "metadata": {
        "id": "NzvGYfO8F_yu",
        "colab_type": "text"
      },
      "cell_type": "markdown",
      "source": [
        "#### Random Forest"
      ]
    },
    {
      "metadata": {
        "id": "FWkBOetpEzew",
        "colab_type": "code",
        "outputId": "b065b787-aaa9-4c2d-cb02-cd404dbe8338",
        "colab": {
          "base_uri": "https://localhost:8080/",
          "height": 86
        }
      },
      "cell_type": "code",
      "source": [
        "%%time\n",
        "\n",
        "rf = RandomForestClassifier(\n",
        "        n_estimators=200, \n",
        "        class_weight='balanced', \n",
        "        criterion = \"entropy\", \n",
        "        bootstrap = True, \n",
        "        max_features= 5, \n",
        "        min_samples_leaf=2, \n",
        "        min_samples_split= 2,\n",
        "        max_depth = None,\n",
        "        n_jobs=-1)\n",
        "\n",
        "rf_scores = cross_val_score(rf, X_train_es, y_train, scoring='roc_auc', cv=10, n_jobs=-1)\n",
        "\n",
        "print(f\"Random Forest range: {round(min(rf_scores),5)}-{round(max(rf_scores),5)}\\n\")"
      ],
      "execution_count": 0,
      "outputs": [
        {
          "output_type": "stream",
          "text": [
            "Random Forest range: 0.7168-0.75117\n",
            "\n",
            "CPU times: user 123 ms, sys: 63.1 ms, total: 186 ms\n",
            "Wall time: 3min 14s\n"
          ],
          "name": "stdout"
        }
      ]
    },
    {
      "metadata": {
        "id": "SUo-4nkCQbC8",
        "colab_type": "text"
      },
      "cell_type": "markdown",
      "source": [
        "##### Grid Search"
      ]
    },
    {
      "metadata": {
        "id": "SV8Spox1RI_Q",
        "colab_type": "code",
        "colab": {}
      },
      "cell_type": "code",
      "source": [
        "param_dist = {\"max_features\": sp_randint(1, 11),\n",
        "              \"min_samples_leaf\": sp_randint(1, 11),\n",
        "              \"min_samples_split\": sp_randint(2, 11),\n",
        "              \"n_estimators\":[100,200,300],\n",
        "              \"bootstrap\": [True, False]}\n",
        "\n",
        "n_iter_search = 20\n",
        "random_search = RandomizedSearchCV(rf, param_distributions=param_dist,\n",
        "                                   n_iter=n_iter_search, cv=5)\n",
        "\n",
        "def report(results, n_top=5):\n",
        "    for i in range(1, n_top + 1):\n",
        "        candidates = np.flatnonzero(results['rank_test_score'] == i)\n",
        "        for candidate in candidates:\n",
        "            print(\"Model with rank: {0}\".format(i))\n",
        "            print(\"Mean validation score: {0:.3f} (std: {1:.3f})\".format(\n",
        "                  results['mean_test_score'][candidate],\n",
        "                  results['std_test_score'][candidate]))\n",
        "            print(\"Parameters: {0}\".format(results['params'][candidate]))\n",
        "            print(\"\")"
      ],
      "execution_count": 0,
      "outputs": []
    },
    {
      "metadata": {
        "id": "Wq3dLzsPSlT8",
        "colab_type": "code",
        "outputId": "535fe5c3-ad98-4b15-8b0b-e9411a19302d",
        "colab": {
          "base_uri": "https://localhost:8080/",
          "height": 398
        }
      },
      "cell_type": "code",
      "source": [
        "from time import time\n",
        "start = time()\n",
        "random_search.fit(X_train_es, y_train)\n",
        "print(\"RandomizedSearchCV took %.2f seconds for %d candidates\"\n",
        "      \" parameter settings. \\n\" % ((time() - start), n_iter_search))\n",
        "report(random_search.cv_results_)"
      ],
      "execution_count": 0,
      "outputs": [
        {
          "output_type": "stream",
          "text": [
            "RandomizedSearchCV took 2211.89 seconds for 20 candidates parameter settings. \n",
            "\n",
            "Model with rank: 1\n",
            "Mean validation score: 0.855 (std: 0.001)\n",
            "Parameters: {'bootstrap': True, 'max_features': 6, 'min_samples_leaf': 2, 'min_samples_split': 7, 'n_estimators': 200}\n",
            "\n",
            "Model with rank: 2\n",
            "Mean validation score: 0.855 (std: 0.001)\n",
            "Parameters: {'bootstrap': True, 'max_features': 4, 'min_samples_leaf': 2, 'min_samples_split': 4, 'n_estimators': 300}\n",
            "\n",
            "Model with rank: 3\n",
            "Mean validation score: 0.854 (std: 0.001)\n",
            "Parameters: {'bootstrap': True, 'max_features': 5, 'min_samples_leaf': 2, 'min_samples_split': 2, 'n_estimators': 200}\n",
            "\n",
            "Model with rank: 4\n",
            "Mean validation score: 0.852 (std: 0.001)\n",
            "Parameters: {'bootstrap': True, 'max_features': 10, 'min_samples_leaf': 4, 'min_samples_split': 4, 'n_estimators': 300}\n",
            "\n",
            "Model with rank: 5\n",
            "Mean validation score: 0.852 (std: 0.001)\n",
            "Parameters: {'bootstrap': True, 'max_features': 10, 'min_samples_leaf': 4, 'min_samples_split': 9, 'n_estimators': 200}\n",
            "\n"
          ],
          "name": "stdout"
        }
      ]
    },
    {
      "metadata": {
        "id": "TJufEYRDGIXO",
        "colab_type": "text"
      },
      "cell_type": "markdown",
      "source": [
        "#### Gradient Boosting"
      ]
    },
    {
      "metadata": {
        "id": "lWW4--GJG-ts",
        "colab_type": "code",
        "outputId": "c0413dac-7be0-46b4-dcb3-c06e343fd70e",
        "colab": {
          "base_uri": "https://localhost:8080/",
          "height": 86
        }
      },
      "cell_type": "code",
      "source": [
        "%%time\n",
        "\n",
        "gb = GradientBoostingClassifier()\n",
        "\n",
        "gb_scores = cross_val_score(gb, X_train_es, y_train, scoring='roc_auc', cv=10, n_jobs=-1)\n",
        "\n",
        "print(f\"Gradient Boosting range: {round(min(gb_scores),5)}-{round(max(gb_scores),5)}\\n\")"
      ],
      "execution_count": 0,
      "outputs": [
        {
          "output_type": "stream",
          "text": [
            "Gradient Boosting range: 0.72664-0.75411\n",
            "\n",
            "CPU times: user 112 ms, sys: 23 ms, total: 135 ms\n",
            "Wall time: 4min 7s\n"
          ],
          "name": "stdout"
        }
      ]
    },
    {
      "metadata": {
        "id": "m90DkvknMvWn",
        "colab_type": "text"
      },
      "cell_type": "markdown",
      "source": [
        "#### XGBoost"
      ]
    },
    {
      "metadata": {
        "id": "AJSfMBR9MyWL",
        "colab_type": "code",
        "outputId": "6f576397-fa4c-4ddc-f198-798f2fb50b7b",
        "colab": {
          "base_uri": "https://localhost:8080/",
          "height": 86
        }
      },
      "cell_type": "code",
      "source": [
        "%%time\n",
        "\n",
        "xgb = XGBClassifier()\n",
        "\n",
        "xgb_scores = cross_val_score(xgb, X_train_es, y_train, scoring='roc_auc', cv=10, n_jobs=-1)\n",
        "\n",
        "print(f\"XGB range: {round(min(xgb_scores),5)}-{round(max(xgb_scores),5)}\\n\")"
      ],
      "execution_count": 0,
      "outputs": [
        {
          "output_type": "stream",
          "text": [
            "XGB range: 0.72823-0.75584\n",
            "\n",
            "CPU times: user 106 ms, sys: 48.9 ms, total: 155 ms\n",
            "Wall time: 1min 35s\n"
          ],
          "name": "stdout"
        }
      ]
    },
    {
      "metadata": {
        "id": "HeWudD0HF3sb",
        "colab_type": "text"
      },
      "cell_type": "markdown",
      "source": [
        "### SUBMISSION\n"
      ]
    },
    {
      "metadata": {
        "id": "bx0IhoqAwY4D",
        "colab_type": "code",
        "outputId": "164da83d-e157-4713-ca45-1b20e7cbfaa7",
        "colab": {
          "base_uri": "https://localhost:8080/",
          "height": 233
        }
      },
      "cell_type": "code",
      "source": [
        "model = xgb\n",
        "\n",
        "\n",
        "model.fit(X_train_es, y_train)\n",
        "y_pred = model.predict(X_test_es)\n",
        "y_pred = pd.DataFrame(y_pred)\n",
        "y_pred = pd.concat([X_test_id, y_pred], axis='columns')\n",
        "y_pred.rename(columns={0:'charged_off'}, inplace=True)\n",
        "y_pred.set_index('id', inplace=True)\n",
        "\n",
        "y_pred.head()"
      ],
      "execution_count": 0,
      "outputs": [
        {
          "output_type": "execute_result",
          "data": {
            "text/html": [
              "<div>\n",
              "<style scoped>\n",
              "    .dataframe tbody tr th:only-of-type {\n",
              "        vertical-align: middle;\n",
              "    }\n",
              "\n",
              "    .dataframe tbody tr th {\n",
              "        vertical-align: top;\n",
              "    }\n",
              "\n",
              "    .dataframe thead th {\n",
              "        text-align: right;\n",
              "    }\n",
              "</style>\n",
              "<table border=\"1\" class=\"dataframe\">\n",
              "  <thead>\n",
              "    <tr style=\"text-align: right;\">\n",
              "      <th></th>\n",
              "      <th>charged_off</th>\n",
              "    </tr>\n",
              "    <tr>\n",
              "      <th>id</th>\n",
              "      <th></th>\n",
              "    </tr>\n",
              "  </thead>\n",
              "  <tbody>\n",
              "    <tr>\n",
              "      <th>57146</th>\n",
              "      <td>0</td>\n",
              "    </tr>\n",
              "    <tr>\n",
              "      <th>20988</th>\n",
              "      <td>0</td>\n",
              "    </tr>\n",
              "    <tr>\n",
              "      <th>10031</th>\n",
              "      <td>0</td>\n",
              "    </tr>\n",
              "    <tr>\n",
              "      <th>33892</th>\n",
              "      <td>0</td>\n",
              "    </tr>\n",
              "    <tr>\n",
              "      <th>35374</th>\n",
              "      <td>0</td>\n",
              "    </tr>\n",
              "  </tbody>\n",
              "</table>\n",
              "</div>"
            ],
            "text/plain": [
              "       charged_off\n",
              "id                \n",
              "57146            0\n",
              "20988            0\n",
              "10031            0\n",
              "33892            0\n",
              "35374            0"
            ]
          },
          "metadata": {
            "tags": []
          },
          "execution_count": 18
        }
      ]
    },
    {
      "metadata": {
        "id": "aSZr1SG1LzRD",
        "colab_type": "code",
        "colab": {}
      },
      "cell_type": "code",
      "source": [
        "# y_pred.equals(sub3)"
      ],
      "execution_count": 0,
      "outputs": []
    },
    {
      "metadata": {
        "id": "sam6iDsGF23j",
        "colab_type": "code",
        "colab": {}
      },
      "cell_type": "code",
      "source": [
        "from google.colab import files\n",
        "\n",
        "y_pred.to_csv('submission.csv')\n",
        "files.download('submission.csv')"
      ],
      "execution_count": 0,
      "outputs": []
    },
    {
      "metadata": {
        "id": "Pd5ckzfIbGq_",
        "colab_type": "text"
      },
      "cell_type": "markdown",
      "source": [
        "### Scratch Pad"
      ]
    },
    {
      "metadata": {
        "id": "q-i0v77VVVPV",
        "colab_type": "code",
        "outputId": "8e152101-9b4e-458f-dfe5-f2035cfaa701",
        "colab": {
          "base_uri": "https://localhost:8080/",
          "height": 381
        }
      },
      "cell_type": "code",
      "source": [
        "import this"
      ],
      "execution_count": 0,
      "outputs": [
        {
          "output_type": "stream",
          "text": [
            "The Zen of Python, by Tim Peters\n",
            "\n",
            "Beautiful is better than ugly.\n",
            "Explicit is better than implicit.\n",
            "Simple is better than complex.\n",
            "Complex is better than complicated.\n",
            "Flat is better than nested.\n",
            "Sparse is better than dense.\n",
            "Readability counts.\n",
            "Special cases aren't special enough to break the rules.\n",
            "Although practicality beats purity.\n",
            "Errors should never pass silently.\n",
            "Unless explicitly silenced.\n",
            "In the face of ambiguity, refuse the temptation to guess.\n",
            "There should be one-- and preferably only one --obvious way to do it.\n",
            "Although that way may not be obvious at first unless you're Dutch.\n",
            "Now is better than never.\n",
            "Although never is often better than *right* now.\n",
            "If the implementation is hard to explain, it's a bad idea.\n",
            "If the implementation is easy to explain, it may be a good idea.\n",
            "Namespaces are one honking great idea -- let's do more of those!\n"
          ],
          "name": "stdout"
        }
      ]
    },
    {
      "metadata": {
        "id": "Qu8UI6r4woUF",
        "colab_type": "code",
        "outputId": "5ebee928-8712-411c-a79a-01cb7034d553",
        "colab": {
          "base_uri": "https://localhost:8080/",
          "height": 381
        }
      },
      "cell_type": "code",
      "source": [
        "# this.py\n",
        "\n",
        "s = \"\"\"Gur Mra bs Clguba, ol Gvz Crgref\n",
        "\n",
        "Ornhgvshy vf orggre guna htyl.\n",
        "Rkcyvpvg vf orggre guna vzcyvpvg.\n",
        "Fvzcyr vf orggre guna pbzcyrk.\n",
        "Pbzcyrk vf orggre guna pbzcyvpngrq.\n",
        "Syng vf orggre guna arfgrq.\n",
        "Fcnefr vf orggre guna qrafr.\n",
        "Ernqnovyvgl pbhagf.\n",
        "Fcrpvny pnfrf nera'g fcrpvny rabhtu gb oernx gur ehyrf.\n",
        "Nygubhtu cenpgvpnyvgl orngf chevgl.\n",
        "Reebef fubhyq arire cnff fvyragyl.\n",
        "Hayrff rkcyvpvgyl fvyraprq.\n",
        "Va gur snpr bs nzovthvgl, ershfr gur grzcgngvba gb thrff.\n",
        "Gurer fubhyq or bar-- naq cersrenoyl bayl bar --boivbhf jnl gb qb vg.\n",
        "Nygubhtu gung jnl znl abg or boivbhf ng svefg hayrff lbh'er Qhgpu.\n",
        "Abj vf orggre guna arire.\n",
        "Nygubhtu arire vf bsgra orggre guna *evtug* abj.\n",
        "Vs gur vzcyrzragngvba vf uneq gb rkcynva, vg'f n onq vqrn.\n",
        "Vs gur vzcyrzragngvba vf rnfl gb rkcynva, vg znl or n tbbq vqrn.\n",
        "Anzrfcnprf ner bar ubaxvat terng vqrn -- yrg'f qb zber bs gubfr!\"\"\"\n",
        "\n",
        "d = {}\n",
        "for c in (65, 97):\n",
        "    for i in range(26):\n",
        "        d[chr(i+c)] = chr((i+13) % 26 + c)\n",
        "\n",
        "print (\"\".join([d.get(c, c) for c in s]))"
      ],
      "execution_count": 0,
      "outputs": [
        {
          "output_type": "stream",
          "text": [
            "The Zen of Python, by Tim Peters\n",
            "\n",
            "Beautiful is better than ugly.\n",
            "Explicit is better than implicit.\n",
            "Simple is better than complex.\n",
            "Complex is better than complicated.\n",
            "Flat is better than nested.\n",
            "Sparse is better than dense.\n",
            "Readability counts.\n",
            "Special cases aren't special enough to break the rules.\n",
            "Although practicality beats purity.\n",
            "Errors should never pass silently.\n",
            "Unless explicitly silenced.\n",
            "In the face of ambiguity, refuse the temptation to guess.\n",
            "There should be one-- and preferably only one --obvious way to do it.\n",
            "Although that way may not be obvious at first unless you're Dutch.\n",
            "Now is better than never.\n",
            "Although never is often better than *right* now.\n",
            "If the implementation is hard to explain, it's a bad idea.\n",
            "If the implementation is easy to explain, it may be a good idea.\n",
            "Namespaces are one honking great idea -- let's do more of those!\n"
          ],
          "name": "stdout"
        }
      ]
    },
    {
      "metadata": {
        "id": "71xok3qNYnM4",
        "colab_type": "code",
        "colab": {}
      },
      "cell_type": "code",
      "source": [
        "# X_num[cols_null].isnull().sum().sort_values(ascending=False).plot.barh()\n",
        "\n",
        "# def plot_nulls(df, ascending=True, threshold = 0):\n",
        "#     '''Returns a Pandas horizontal bar graph for the null columns where null > 0'''\n",
        "#     return df[[col for col in df.columns if df[col].isnull().sum() > threshold]].isnull().sum().sort_values(ascending=ascending).plot.barh()"
      ],
      "execution_count": 0,
      "outputs": []
    },
    {
      "metadata": {
        "id": "U389LLm8aKWv",
        "colab_type": "code",
        "colab": {}
      },
      "cell_type": "code",
      "source": [
        "features = ['bathrooms', 'bedrooms', 'longitude', 'latitude', 'price']\n",
        "dfr = df[features]\n",
        "X_train, y_train = dfr.drop('price',axis=1), dfr['price']\n",
        "X_train['random'] = np.random.random(size=len(X_train))\n",
        "rf = RandomForestRegressor(\n",
        "         n_estimators=100,\n",
        "         min_samples_leaf=1,\n",
        "         n_jobs=-1,\n",
        "         oob_score=True)\n",
        "rf.fit(X_train, y_train)\n",
        "\n",
        "\n",
        "features = ['bathrooms', 'bedrooms', 'price', 'longitude', 'latitude', 'interest_level']\n",
        "dfc = df[features]\n",
        "X_train, y_train = dfc.drop('interest_level',axis=1), dfc['interest_level']\n",
        "X_train['random'] = np.random.random(size=len(X_train))\n",
        "rf = RandomForestClassifier(\n",
        "         n_estimators=100,\n",
        "         # better generality with 5\n",
        "         min_samples_leaf=5, \n",
        "         n_jobs=-1,\n",
        "         oob_score=True)\n",
        "rf.fit(X_train, y_train)\n",
        "\n",
        "def permutation_importances(rf, X_train, y_train, metric):\n",
        "    baseline = metric(rf, X_train, y_train)\n",
        "    imp = []\n",
        "    for col in X_train.columns:\n",
        "        save = X_train[col].copy()\n",
        "        X_train[col] = np.random.permutation(X_train[col])\n",
        "        m = metric(rf, X_train, y_train)\n",
        "        X_train[col] = save\n",
        "        imp.append(baseline - m)\n",
        "    return np.array(imp)\n",
        "\n",
        "\n",
        "rf = RandomForestRegressor(...)\n",
        "rf.fit(X_train, y_train) # rf must be pre-trained\n",
        "imp = permutation_importances(rf, X_train, y_train,\n",
        "                              oob_regression_r2_score)\n",
        "\n",
        "\n",
        "rf = RandomForestClassifier(...)\n",
        "imp = permutation_importances(rf, X_train, y_train,\n",
        "                              oob_classifier_accuracy)\n",
        "\n",
        "def dropcol_importances(rf, X_train, y_train):\n",
        "    rf_ = clone(rf)\n",
        "    rf_.random_state = 999\n",
        "    rf_.fit(X_train, y_train)\n",
        "    baseline = rf_.oob_score_\n",
        "    imp = []\n",
        "    for col in X_train.columns:\n",
        "        X = X_train.drop(col, axis=1)\n",
        "        rf_ = clone(rf)\n",
        "        rf_.random_state = 999\n",
        "        rf_.fit(X, y_train)\n",
        "        o = rf_.oob_score_\n",
        "        imp.append(baseline - o)\n",
        "    imp = np.array(imp)\n",
        "    I = pd.DataFrame(\n",
        "            data={'Feature':X_train.columns,\n",
        "                  'Importance':imp})\n",
        "    I = I.set_index('Feature')\n",
        "    I = I.sort_values('Importance', ascending=True)\n",
        "    return I"
      ],
      "execution_count": 0,
      "outputs": []
    },
    {
      "metadata": {
        "id": "b559Rd5lC75z",
        "colab_type": "code",
        "colab": {}
      },
      "cell_type": "code",
      "source": [
        "import pandas as pd\n",
        "\n",
        "sub0 = pd.read_csv('https://raw.githubusercontent.com/aaptecode/DS-Unit-4-Sprint-1-Tree-Ensembles/master/submissions/submission.csv')\n",
        "sub1 = pd.read_csv('https://raw.githubusercontent.com/aaptecode/DS-Unit-4-Sprint-1-Tree-Ensembles/master/submissions/submission%20(1).csv')\n",
        "sub2 = pd.read_csv('https://raw.githubusercontent.com/aaptecode/DS-Unit-4-Sprint-1-Tree-Ensembles/master/submissions/submission%20(2).csv')\n",
        "sub3 = pd.read_csv('https://raw.githubusercontent.com/aaptecode/DS-Unit-4-Sprint-1-Tree-Ensembles/master/submissions/submission%20(3).csv')"
      ],
      "execution_count": 0,
      "outputs": []
    },
    {
      "metadata": {
        "id": "43qjfT62Dn77",
        "colab_type": "code",
        "outputId": "bedbccda-9882-4393-d49b-8b3e7142024c",
        "colab": {
          "base_uri": "https://localhost:8080/",
          "height": 121
        }
      },
      "cell_type": "code",
      "source": [
        "print(sub0.equals(sub1))\n",
        "print(sub0.equals(sub2))\n",
        "print(sub0.equals(sub3))\n",
        "print(sub1.equals(sub2))\n",
        "print(sub1.equals(sub3))\n",
        "print(sub2.equals(sub3))"
      ],
      "execution_count": 0,
      "outputs": [
        {
          "output_type": "stream",
          "text": [
            "True\n",
            "True\n",
            "True\n",
            "True\n",
            "True\n",
            "True\n"
          ],
          "name": "stdout"
        }
      ]
    },
    {
      "metadata": {
        "id": "7J5jef2zUd4j",
        "colab_type": "code",
        "colab": {}
      },
      "cell_type": "code",
      "source": [
        "import pandas as pd\n",
        "\n",
        "# Filenames of your submissions you want to ensemble\n",
        "files = ['submission-01.csv', 'submission-02.csv', 'submission-03.csv']\n",
        "\n",
        "target_name = 'charged_off'\n",
        "submissions = (pd.read_csv(file)[[target_name]] for file in files)\n",
        "ensemble = pd.concat(submissions, axis='columns')\n",
        "majority_vote = ensemble.mode(axis='columns')[0]\n",
        "\n",
        "sample_submission = pd.read_csv('sample_submission.csv')\n",
        "submission = sample_submission.copy()\n",
        "submission[target_name] = majority_vote\n",
        "submission.to_csv('my-ultimate-ensemble-submission.csv', index=False)"
      ],
      "execution_count": 0,
      "outputs": []
    },
    {
      "metadata": {
        "id": "kAUH_WPVX-yl",
        "colab_type": "code",
        "colab": {}
      },
      "cell_type": "code",
      "source": [
        "def quick_eval(X,y, clf):\n",
        "    from sklearn.model_selection import train_test_split\n",
        "    from sklearn.preprocessing import StandardScaler\n",
        "    from sklearn.preprocessing import RobustScaler\n",
        "    from sklearn.metrics import accuracy_score\n",
        "\n",
        "\n",
        "    X_train, X_test, y_train, y_test = train_test_split(X, y, test_size=0.20, shuffle = True, random_state=237)\n",
        "    print(X_train.shape, X_test.shape, y_train.shape, y_test.shape)\n",
        "\n",
        "    scaler = StandardScaler()\n",
        "    #   scaler = RobustScaler()\n",
        "    X_train_es = scaler.fit_transform(X_train)\n",
        "    X_test_clf = scaler.transform(X_test)\n",
        "\n",
        "    clf.fit(X_train_clf, y_train)\n",
        "\n",
        "    y_pred_train = clf.predict(X_train_clf)\n",
        "\n",
        "    y_pred = clf.predict(X_test_clf)\n",
        "\n",
        "\n",
        "    return accuracy_score(y_train,y_pred_train), accuracy_score(y_test, y_pred)"
      ],
      "execution_count": 0,
      "outputs": []
    }
  ]
}